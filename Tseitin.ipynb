{
 "cells": [
  {
   "cell_type": "code",
   "execution_count": 1,
   "metadata": {},
   "outputs": [],
   "source": [
    "from sympy import *\n",
    "from sympy.abc import *"
   ]
  },
  {
   "cell_type": "code",
   "execution_count": 2,
   "metadata": {},
   "outputs": [],
   "source": [
    "x0, x1, x2, x3, x4, x5, x6, x7, x8, x9, x10, x11 = symbols('x:12')"
   ]
  },
  {
   "cell_type": "code",
   "execution_count": 3,
   "metadata": {},
   "outputs": [
    {
     "data": {
      "text/plain": [
       "(x0 | x10 | x2 | x4 | x6 | x8) & (x0 | x10 | x2 | x4 | x6 | x9) & (x0 | x10 | x2 | x4 | x7 | x8) & (x0 | x10 | x2 | x4 | x7 | x9) & (x0 | x10 | x2 | x5 | x6 | x8) & (x0 | x10 | x2 | x5 | x6 | x9) & (x0 | x10 | x2 | x5 | x7 | x8) & (x0 | x10 | x2 | x5 | x7 | x9) & (x0 | x10 | x3 | x4 | x6 | x8) & (x0 | x10 | x3 | x4 | x6 | x9) & (x0 | x10 | x3 | x4 | x7 | x8) & (x0 | x10 | x3 | x4 | x7 | x9) & (x0 | x10 | x3 | x5 | x6 | x8) & (x0 | x10 | x3 | x5 | x6 | x9) & (x0 | x10 | x3 | x5 | x7 | x8) & (x0 | x10 | x3 | x5 | x7 | x9) & (x0 | x11 | x2 | x4 | x6 | x8) & (x0 | x11 | x2 | x4 | x6 | x9) & (x0 | x11 | x2 | x4 | x7 | x8) & (x0 | x11 | x2 | x4 | x7 | x9) & (x0 | x11 | x2 | x5 | x6 | x8) & (x0 | x11 | x2 | x5 | x6 | x9) & (x0 | x11 | x2 | x5 | x7 | x8) & (x0 | x11 | x2 | x5 | x7 | x9) & (x0 | x11 | x3 | x4 | x6 | x8) & (x0 | x11 | x3 | x4 | x6 | x9) & (x0 | x11 | x3 | x4 | x7 | x8) & (x0 | x11 | x3 | x4 | x7 | x9) & (x0 | x11 | x3 | x5 | x6 | x8) & (x0 | x11 | x3 | x5 | x6 | x9) & (x0 | x11 | x3 | x5 | x7 | x8) & (x0 | x11 | x3 | x5 | x7 | x9) & (x1 | x10 | x2 | x4 | x6 | x8) & (x1 | x10 | x2 | x4 | x6 | x9) & (x1 | x10 | x2 | x4 | x7 | x8) & (x1 | x10 | x2 | x4 | x7 | x9) & (x1 | x10 | x2 | x5 | x6 | x8) & (x1 | x10 | x2 | x5 | x6 | x9) & (x1 | x10 | x2 | x5 | x7 | x8) & (x1 | x10 | x2 | x5 | x7 | x9) & (x1 | x10 | x3 | x4 | x6 | x8) & (x1 | x10 | x3 | x4 | x6 | x9) & (x1 | x10 | x3 | x4 | x7 | x8) & (x1 | x10 | x3 | x4 | x7 | x9) & (x1 | x10 | x3 | x5 | x6 | x8) & (x1 | x10 | x3 | x5 | x6 | x9) & (x1 | x10 | x3 | x5 | x7 | x8) & (x1 | x10 | x3 | x5 | x7 | x9) & (x1 | x11 | x2 | x4 | x6 | x8) & (x1 | x11 | x2 | x4 | x6 | x9) & (x1 | x11 | x2 | x4 | x7 | x8) & (x1 | x11 | x2 | x4 | x7 | x9) & (x1 | x11 | x2 | x5 | x6 | x8) & (x1 | x11 | x2 | x5 | x6 | x9) & (x1 | x11 | x2 | x5 | x7 | x8) & (x1 | x11 | x2 | x5 | x7 | x9) & (x1 | x11 | x3 | x4 | x6 | x8) & (x1 | x11 | x3 | x4 | x6 | x9) & (x1 | x11 | x3 | x4 | x7 | x8) & (x1 | x11 | x3 | x4 | x7 | x9) & (x1 | x11 | x3 | x5 | x6 | x8) & (x1 | x11 | x3 | x5 | x6 | x9) & (x1 | x11 | x3 | x5 | x7 | x8) & (x1 | x11 | x3 | x5 | x7 | x9)"
      ]
     },
     "execution_count": 3,
     "metadata": {},
     "output_type": "execute_result"
    }
   ],
   "source": [
    "to_cnf((x0 & x1) | (x2 & x3) | (x4 & x5) | (x6 & x7)| (x8 & x9)| (x10 & x11))"
   ]
  },
  {
   "cell_type": "code",
   "execution_count": 4,
   "metadata": {},
   "outputs": [],
   "source": [
    "def symbol_init(x, count=0):\n",
    "    def new_symbol ():\n",
    "        nonlocal count\n",
    "        count += 1\n",
    "        return var(str(x) + str(count))\n",
    "    return new_symbol"
   ]
  },
  {
   "cell_type": "code",
   "execution_count": 5,
   "metadata": {},
   "outputs": [],
   "source": [
    "s = symbol_init('t')"
   ]
  },
  {
   "cell_type": "code",
   "execution_count": 6,
   "metadata": {},
   "outputs": [
    {
     "data": {
      "text/plain": [
       "t1 | t2"
      ]
     },
     "execution_count": 6,
     "metadata": {},
     "output_type": "execute_result"
    }
   ],
   "source": [
    "s() | s()"
   ]
  },
  {
   "cell_type": "code",
   "execution_count": 7,
   "metadata": {},
   "outputs": [],
   "source": [
    "def subformula(expr):\n",
    "# subformula of expr without atoms\n",
    "# considering operator as binary\n",
    "    \n",
    "    if expr.func == Symbol:\n",
    "        return []\n",
    "    elif expr.func == Not:\n",
    "        return [expr] + subformula(expr.args[0])\n",
    "    elif ((expr.func == And) or (expr.func == Or)) and len(expr.args)==2:\n",
    "        return [expr] + subformula(expr.args[0]) + subformula(expr.args[1]) \n",
    "    elif ((expr.func == And) or (expr.func == Or)) and len(expr.args)>2:\n",
    "        return [expr] + subformula(expr.args[0]) + subformula(eval(str(expr.func)+str(expr.args[1:])))  \n",
    "    else:\n",
    "        return \"error\"\n",
    "        \n",
    "    "
   ]
  },
  {
   "cell_type": "code",
   "execution_count": 8,
   "metadata": {},
   "outputs": [
    {
     "data": {
      "text/plain": [
       "[(x1 & x2) | (x3 & x4) | (x5 & x6) | (x7 & x8),\n",
       " x1 & x2,\n",
       " (x3 & x4) | (x5 & x6) | (x7 & x8),\n",
       " x3 & x4,\n",
       " (x5 & x6) | (x7 & x8),\n",
       " x5 & x6,\n",
       " x7 & x8]"
      ]
     },
     "execution_count": 8,
     "metadata": {},
     "output_type": "execute_result"
    }
   ],
   "source": [
    "subformula((x1 & x2) | (x3 & x4) | (x5 & x6)| (x7 & x8) )"
   ]
  },
  {
   "cell_type": "code",
   "execution_count": 9,
   "metadata": {},
   "outputs": [
    {
     "data": {
      "text/plain": [
       "[~(C | (A & B)), C | (A & B), A & B]"
      ]
     },
     "execution_count": 9,
     "metadata": {},
     "output_type": "execute_result"
    }
   ],
   "source": [
    "subformula(Not((A & B ) | C))"
   ]
  },
  {
   "cell_type": "code",
   "execution_count": 10,
   "metadata": {},
   "outputs": [
    {
     "data": {
      "text/plain": [
       "[~(C | (A & B & D)), C | (A & B & D), A & B & D, B & D]"
      ]
     },
     "execution_count": 10,
     "metadata": {},
     "output_type": "execute_result"
    }
   ],
   "source": [
    "subformula(Not((A & B & D) | C))"
   ]
  },
  {
   "cell_type": "code",
   "execution_count": 11,
   "metadata": {},
   "outputs": [],
   "source": [
    "def depth(expr):\n",
    "# still considering operator as binary\n",
    "    if expr.func == Not:\n",
    "        return 1 + depth(expr.args[0])\n",
    "    elif (((expr.func == And) or (expr.func == Or)) and len(expr.args)==2):\n",
    "        return 1 + max([depth(x) for x in expr.args])\n",
    "    elif (((expr.func == And) or (expr.func == Or)) and len(expr.args)>2):\n",
    "        #return 1 + max(depth(expr.args[0]), depth(eval(str(expr.func)+str(expr.args[1:]))))\n",
    "        return len(expr.args)-1 + max([depth(x) for x in expr.args])\n",
    "    elif expr.func == Symbol:\n",
    "        return 0\n",
    "    else: \n",
    "        return\"error\""
   ]
  },
  {
   "cell_type": "code",
   "execution_count": 12,
   "metadata": {},
   "outputs": [
    {
     "data": {
      "text/plain": [
       "4"
      ]
     },
     "execution_count": 12,
     "metadata": {},
     "output_type": "execute_result"
    }
   ],
   "source": [
    "depth(Not((A & B & D) | Not(C | D)))\n"
   ]
  },
  {
   "cell_type": "code",
   "execution_count": 13,
   "metadata": {},
   "outputs": [
    {
     "data": {
      "text/plain": [
       "2"
      ]
     },
     "execution_count": 13,
     "metadata": {},
     "output_type": "execute_result"
    }
   ],
   "source": [
    "depth((x1 & x2) | (x3 & x4))"
   ]
  },
  {
   "cell_type": "code",
   "execution_count": 14,
   "metadata": {},
   "outputs": [
    {
     "data": {
      "text/plain": [
       "3"
      ]
     },
     "execution_count": 14,
     "metadata": {},
     "output_type": "execute_result"
    }
   ],
   "source": [
    "depth((x1 & x2 &x3 & x4) )"
   ]
  },
  {
   "cell_type": "code",
   "execution_count": 15,
   "metadata": {},
   "outputs": [
    {
     "data": {
      "text/plain": [
       "2"
      ]
     },
     "execution_count": 15,
     "metadata": {},
     "output_type": "execute_result"
    }
   ],
   "source": [
    "depth((x1 & x2 & x3))"
   ]
  },
  {
   "cell_type": "code",
   "execution_count": 16,
   "metadata": {},
   "outputs": [
    {
     "data": {
      "text/plain": [
       "[A & B, C | (A & B), ~(C | (A & B))]"
      ]
     },
     "execution_count": 16,
     "metadata": {},
     "output_type": "execute_result"
    }
   ],
   "source": [
    "sorted(subformula(Not((A & B ) | C)), key=depth)\n"
   ]
  },
  {
   "cell_type": "code",
   "execution_count": 17,
   "metadata": {},
   "outputs": [
    {
     "data": {
      "text/plain": [
       "x1 & x2 & x3"
      ]
     },
     "execution_count": 17,
     "metadata": {},
     "output_type": "execute_result"
    }
   ],
   "source": [
    "(x1 & x2 &x3).subs(x1 & x2, A)"
   ]
  },
  {
   "cell_type": "code",
   "execution_count": 18,
   "metadata": {},
   "outputs": [
    {
     "data": {
      "text/plain": [
       "(x1, x2, x3)"
      ]
     },
     "execution_count": 18,
     "metadata": {},
     "output_type": "execute_result"
    }
   ],
   "source": [
    "(x1 & x2 &x3 & x3).args"
   ]
  },
  {
   "cell_type": "code",
   "execution_count": 19,
   "metadata": {},
   "outputs": [
    {
     "data": {
      "text/plain": [
       "x1 & x3 & ~x2"
      ]
     },
     "execution_count": 19,
     "metadata": {},
     "output_type": "execute_result"
    }
   ],
   "source": [
    "(x1 & Not(x2) &x3).subs(Not(x2) & x3, A)"
   ]
  },
  {
   "cell_type": "code",
   "execution_count": 20,
   "metadata": {},
   "outputs": [],
   "source": [
    "def binSubs(x, y, z):\n",
    "    #replace y by z in x\n",
    "    #print(\"subs\", x, y, z)\n",
    "    if (len(y.args) >0) and (len(x.args)>2) and (y!=x) and (y.func==x.func):\n",
    "     \n",
    "        if all([y in x.args for y in y.args]): \n",
    "            l = list(x.args)\n",
    "            for i in y.args:\n",
    "                l.remove(i)\n",
    "            if (z.func== Symbol):\n",
    "                t=tuple(l + [z])\n",
    "            else:\n",
    "                t=tuple(l+list(z.args))\n",
    "            return eval(str(x.func) + str(t))\n",
    "    \n",
    "    return x.subs(y,z)\n",
    "            "
   ]
  },
  {
   "cell_type": "code",
   "execution_count": 21,
   "metadata": {},
   "outputs": [
    {
     "data": {
      "text/plain": [
       "A & x3"
      ]
     },
     "execution_count": 21,
     "metadata": {},
     "output_type": "execute_result"
    }
   ],
   "source": [
    "binSubs((x1 & ~x2 &x3), x1 & ~x2, A)"
   ]
  },
  {
   "cell_type": "code",
   "execution_count": 22,
   "metadata": {},
   "outputs": [
    {
     "data": {
      "text/plain": [
       "A & x3"
      ]
     },
     "execution_count": 22,
     "metadata": {},
     "output_type": "execute_result"
    }
   ],
   "source": [
    "binSubs((x1 & x2 &x3), x1 & x2, A)"
   ]
  },
  {
   "cell_type": "code",
   "execution_count": 23,
   "metadata": {},
   "outputs": [
    {
     "name": "stdout",
     "output_type": "stream",
     "text": [
      "()\n",
      "[x1, x2, x3]\n",
      "[x3]\n"
     ]
    },
    {
     "data": {
      "text/plain": [
       "[A]"
      ]
     },
     "execution_count": 23,
     "metadata": {},
     "output_type": "execute_result"
    }
   ],
   "source": [
    "x =x1 & x2 & x3\n",
    "y = x1 & x2\n",
    "z= A\n",
    "print(z.args)\n",
    "[y in x.args for y in y.args]\n",
    "l = list(x.args)\n",
    "print(l)\n",
    "for i in y.args:\n",
    "    l.remove(i)\n",
    "print(l)\n",
    "t=tuple(l+list(z.args))\n",
    "z.func== Symbol\n",
    "[z]"
   ]
  },
  {
   "cell_type": "code",
   "execution_count": 35,
   "metadata": {},
   "outputs": [],
   "source": [
    "E = Not((A & B ) | C)"
   ]
  },
  {
   "cell_type": "code",
   "execution_count": 37,
   "metadata": {},
   "outputs": [
    {
     "data": {
      "text/plain": [
       "[A & B, C | (A & B), ~(C | (A & B))]"
      ]
     },
     "execution_count": 37,
     "metadata": {},
     "output_type": "execute_result"
    }
   ],
   "source": [
    "s = sorted(subformula(E), key=depth)\n",
    "s"
   ]
  },
  {
   "cell_type": "code",
   "execution_count": null,
   "metadata": {},
   "outputs": [],
   "source": []
  },
  {
   "cell_type": "code",
   "execution_count": 38,
   "metadata": {},
   "outputs": [
    {
     "data": {
      "text/plain": [
       "p3 & (Equivalent(p3, ~p2)) & (Equivalent(p1, A & B)) & (Equivalent(p2, C | p1))"
      ]
     },
     "execution_count": 38,
     "metadata": {},
     "output_type": "execute_result"
    }
   ],
   "source": [
    "tseitin1(Not((A & B ) | C))"
   ]
  },
  {
   "cell_type": "code",
   "execution_count": null,
   "metadata": {},
   "outputs": [],
   "source": []
  },
  {
   "cell_type": "code",
   "execution_count": 24,
   "metadata": {},
   "outputs": [],
   "source": [
    "def tseitin1(expr):\n",
    "    # for binary operation\n",
    "\n",
    "    s=symbol_init(\"p\")\n",
    "    if expr.func == Symbol:\n",
    "        return true\n",
    "    else:\n",
    "        return tseitin_aux(sorted(subformula(expr), key=depth), s) \n",
    "\n",
    "def tseitin_aux(L, s):\n",
    "    #nonlocal newvar\n",
    "    newvar = s()\n",
    "    if (L==[]):\n",
    "        return true\n",
    "    if depth(L[0]) > 0:\n",
    "        if len(L[1:])>0 :\n",
    "            #newList = [x.subs(L[0], newvar) for x in L[1:]]  \n",
    "            \n",
    "            newList = [binSubs(x, L[0], newvar) for x in L[1:]]  \n",
    "            \n",
    "            return Equivalent(newvar, L[0]) & tseitin_aux(newList, s)\n",
    "        else:      \n",
    "            return Equivalent(newvar, L[0]) & newvar\n",
    "    else:\n",
    "        print(\"error\")   "
   ]
  },
  {
   "cell_type": "code",
   "execution_count": 25,
   "metadata": {},
   "outputs": [
    {
     "data": {
      "text/plain": [
       "p3 & (Equivalent(p3, ~p2)) & (Equivalent(p1, A & B)) & (Equivalent(p2, C | p1))"
      ]
     },
     "execution_count": 25,
     "metadata": {},
     "output_type": "execute_result"
    }
   ],
   "source": [
    "tseitin1(Not((A & B ) | C))"
   ]
  },
  {
   "cell_type": "code",
   "execution_count": 26,
   "metadata": {},
   "outputs": [
    {
     "data": {
      "text/plain": [
       "p3 & (p2 | p3) & (A | ~p1) & (B | ~p1) & (p2 | ~C) & (p2 | ~p1) & (~p2 | ~p3) & (C | p1 | ~p2) & (p1 | ~A | ~B)"
      ]
     },
     "execution_count": 26,
     "metadata": {},
     "output_type": "execute_result"
    }
   ],
   "source": [
    "to_cnf(tseitin1(Not((A & B ) | C)))"
   ]
  },
  {
   "cell_type": "code",
   "execution_count": 27,
   "metadata": {},
   "outputs": [
    {
     "data": {
      "text/plain": [
       "p2 & (Equivalent(p1, x2 & x3)) & (Equivalent(p2, p1 & x1))"
      ]
     },
     "execution_count": 27,
     "metadata": {},
     "output_type": "execute_result"
    }
   ],
   "source": [
    "tseitin1((x1 & x2 & x3))"
   ]
  },
  {
   "cell_type": "code",
   "execution_count": 28,
   "metadata": {},
   "outputs": [
    {
     "data": {
      "text/plain": [
       "p5 & (Equivalent(p1, x1 & x2)) & (Equivalent(p2, x3 & x4)) & (Equivalent(p3, x5 & x6)) & (Equivalent(p4, p2 | p3)) & (Equivalent(p5, p1 | p4))"
      ]
     },
     "execution_count": 28,
     "metadata": {},
     "output_type": "execute_result"
    }
   ],
   "source": [
    "tseitin1((x1 & x2) | (x3 & x4) | (x5 & x6))"
   ]
  },
  {
   "cell_type": "code",
   "execution_count": 29,
   "metadata": {},
   "outputs": [
    {
     "data": {
      "text/plain": [
       "p7 & (Equivalent(p1, x1 & x2)) & (Equivalent(p2, x3 & x4)) & (Equivalent(p3, x5 & x6)) & (Equivalent(p4, x7 & x8)) & (Equivalent(p5, p3 | p4)) & (Equivalent(p6, p2 | p5)) & (Equivalent(p7, p1 | p6))"
      ]
     },
     "execution_count": 29,
     "metadata": {},
     "output_type": "execute_result"
    }
   ],
   "source": [
    "tseitin1((x1 & x2) | (x3 & x4) | (x5 & x6)| (x7 & x8))"
   ]
  },
  {
   "cell_type": "code",
   "execution_count": 30,
   "metadata": {},
   "outputs": [
    {
     "data": {
      "text/plain": [
       "p7 & (p5 | ~p3) & (p5 | ~p4) & (p6 | ~p2) & (p6 | ~p5) & (p7 | ~p1) & (p7 | ~p6) & (x1 | ~p1) & (x2 | ~p1) & (x3 | ~p2) & (x4 | ~p2) & (x5 | ~p3) & (x6 | ~p3) & (x7 | ~p4) & (x8 | ~p4) & (p1 | p6 | ~p7) & (p2 | p5 | ~p6) & (p3 | p4 | ~p5) & (p1 | ~x1 | ~x2) & (p2 | ~x3 | ~x4) & (p3 | ~x5 | ~x6) & (p4 | ~x7 | ~x8)"
      ]
     },
     "execution_count": 30,
     "metadata": {},
     "output_type": "execute_result"
    }
   ],
   "source": [
    "to_cnf(tseitin1((x1 & x2) | (x3 & x4) | (x5 & x6)| (x7 & x8)))"
   ]
  },
  {
   "cell_type": "code",
   "execution_count": 31,
   "metadata": {},
   "outputs": [
    {
     "data": {
      "text/plain": [
       "p11 & (Equivalent(p1, x0 & x1)) & (Equivalent(p10, p2 | p9)) & (Equivalent(p11, p1 | p10)) & (Equivalent(p2, x10 & x11)) & (Equivalent(p3, x2 & x3)) & (Equivalent(p4, x4 & x5)) & (Equivalent(p5, x6 & x7)) & (Equivalent(p6, x8 & x9)) & (Equivalent(p7, p5 | p6)) & (Equivalent(p8, p4 | p7)) & (Equivalent(p9, p3 | p8))"
      ]
     },
     "execution_count": 31,
     "metadata": {},
     "output_type": "execute_result"
    }
   ],
   "source": [
    "tseitin1((x0 & x1) | (x2 & x3) | (x4 & x5) | (x6 & x7)| (x8 & x9)| (x10 & x11))"
   ]
  },
  {
   "cell_type": "code",
   "execution_count": 32,
   "metadata": {},
   "outputs": [
    {
     "data": {
      "text/plain": [
       "p11 & (p10 | ~p2) & (p10 | ~p9) & (p11 | ~p1) & (p11 | ~p10) & (p7 | ~p5) & (p7 | ~p6) & (p8 | ~p4) & (p8 | ~p7) & (p9 | ~p3) & (p9 | ~p8) & (x0 | ~p1) & (x1 | ~p1) & (x10 | ~p2) & (x11 | ~p2) & (x2 | ~p3) & (x3 | ~p3) & (x4 | ~p4) & (x5 | ~p4) & (x6 | ~p5) & (x7 | ~p5) & (x8 | ~p6) & (x9 | ~p6) & (p1 | p10 | ~p11) & (p2 | p9 | ~p10) & (p3 | p8 | ~p9) & (p4 | p7 | ~p8) & (p5 | p6 | ~p7) & (p1 | ~x0 | ~x1) & (p2 | ~x10 | ~x11) & (p3 | ~x2 | ~x3) & (p4 | ~x4 | ~x5) & (p5 | ~x6 | ~x7) & (p6 | ~x8 | ~x9)"
      ]
     },
     "execution_count": 32,
     "metadata": {},
     "output_type": "execute_result"
    }
   ],
   "source": [
    "to_cnf(tseitin1((x0 & x1) | (x2 & x3) | (x4 & x5) | (x6 & x7)| (x8 & x9)| (x10 & x11)))"
   ]
  },
  {
   "cell_type": "code",
   "execution_count": null,
   "metadata": {},
   "outputs": [],
   "source": []
  }
 ],
 "metadata": {
  "kernelspec": {
   "display_name": "Python 3",
   "language": "python",
   "name": "python3"
  },
  "language_info": {
   "codemirror_mode": {
    "name": "ipython",
    "version": 3
   },
   "file_extension": ".py",
   "mimetype": "text/x-python",
   "name": "python",
   "nbconvert_exporter": "python",
   "pygments_lexer": "ipython3",
   "version": "3.6.5"
  }
 },
 "nbformat": 4,
 "nbformat_minor": 2
}

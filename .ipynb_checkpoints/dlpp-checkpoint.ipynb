{
 "cells": [
  {
   "cell_type": "code",
   "execution_count": 1,
   "metadata": {},
   "outputs": [],
   "source": [
    "import sympy as sp\n",
    "from sympy import *\n",
    "from sympy.abc import *"
   ]
  },
  {
   "cell_type": "code",
   "execution_count": 14,
   "metadata": {},
   "outputs": [],
   "source": [
    "datapath= \"C:\\\\Users\\\\i053131\\\\AnacondaProjects\\\\SAT illustrations\\\\\""
   ]
  },
  {
   "cell_type": "code",
   "execution_count": null,
   "metadata": {},
   "outputs": [],
   "source": [
    "def symbol_init(x, count=0):\n",
    "    def new_symbol ():\n",
    "        nonlocal count\n",
    "        count += 1\n",
    "        return var(str(x) + str(count)) #var add the new symbol in the name space\n",
    "    return new_symbol"
   ]
  },
  {
   "cell_type": "code",
   "execution_count": 39,
   "metadata": {},
   "outputs": [],
   "source": [
    "def read_literal(literal, name=\"x\"):\n",
    "    lit = str(literal)\n",
    "    if lit == '':\n",
    "        \"error literal string cannot be null\"\n",
    "    elif lit[0] == \"-\":\n",
    "        return Not(var(str(name) + str(lit[1:])))\n",
    "    elif lit=='0':\n",
    "        return false\n",
    "    else:\n",
    "        return var(str(name) + str(lit))\n"
   ]
  },
  {
   "cell_type": "code",
   "execution_count": 49,
   "metadata": {},
   "outputs": [],
   "source": [
    "def read_cnf(file):\n",
    "    #read CNF in dima\n",
    "    cnf = And()\n",
    "    separator = ' '\n",
    "    for line in open(file):\n",
    "        clause_args = []\n",
    "        line = line.split(separator)\n",
    "        if (len(line) == 1 and line[0]=='\\n'): #would be an empry line\n",
    "            continue\n",
    "        for i in line:\n",
    "            if i != '/n': \n",
    "              literal = read_literal(i.strip())\n",
    "              clause_args.append(literal) #add literal  in clause\n",
    "        if clause_args != []:\n",
    "            cnf = And(cnf, eval(\"Or\" + str(tuple(clause_args))))\n",
    "    return cnf\n",
    "        \n",
    "          "
   ]
  },
  {
   "cell_type": "code",
   "execution_count": 52,
   "metadata": {},
   "outputs": [
    {
     "data": {
      "text/plain": [
       "(x1 | x4) & (x10 | x8) & (x6 | x7) & (x1 | ~x6) & (x1 | ~x7) & (x10 | ~x6) & (x4 | ~x1) & (x6 | ~x3) & (x10 | x4 | x8) & (x4 | x7 | x8) & (~x4 | ~x5) & (x1 | x5 | ~x8) & (x10 | x2 | ~x1) & (x10 | x4 | ~x10) & (x10 | x7 | ~x9) & (x2 | x3 | ~x3) & (x2 | x6 | ~x9) & (x2 | x8 | ~x8) & (x3 | x8 | ~x8) & (x4 | x5 | ~x2) & (x5 | x6 | ~x6) & (x6 | x7 | ~x10) & (x6 | x7 | ~x7) & (x6 | x8 | ~x9) & (x6 | x9 | ~x7) & (x7 | x8 | ~x9) & (x10 | x2 | x7 | x9) & (x10 | ~x10 | ~x2) & (x10 | ~x10 | ~x8) & (x2 | ~x1 | ~x2) & (x3 | ~x10 | ~x7) & (x5 | ~x3 | ~x8) & (x5 | ~x5 | ~x6) & (x7 | ~x1 | ~x10) & (x7 | ~x2 | ~x8) & (x8 | ~x1 | ~x3) & (~x1 | ~x10 | ~x5) & (~x10 | ~x6 | ~x8) & (~x2 | ~x4 | ~x7) & (~x5 | ~x7 | ~x8)"
      ]
     },
     "execution_count": 52,
     "metadata": {},
     "output_type": "execute_result"
    }
   ],
   "source": [
    "c1 =read_cnf(datapath + \"cnf1.txt\")\n",
    "c1"
   ]
  },
  {
   "cell_type": "code",
   "execution_count": 94,
   "metadata": {},
   "outputs": [],
   "source": [
    "def first_var(cnf):\n",
    "    if (cnf):\n",
    "        return cnf\n",
    "    else:\n",
    "        clause = cnf.args[0]\n",
    "        if clause.func == sp.Not:\n",
    "            return clause.args[0]\n",
    "        elif clause.func == sp.Symbol:\n",
    "            return clause\n",
    "        elif clause.args[0].func == sp.Symbol:\n",
    "            return clause.args[0]\n",
    "        elif clause.args[0].func == sp.Not:\n",
    "            return clause.args[0].args[0]\n",
    "        else:\n",
    "            print(\"badly constructed cnf\")\n",
    "    "
   ]
  },
  {
   "cell_type": "code",
   "execution_count": 95,
   "metadata": {},
   "outputs": [
    {
     "data": {
      "text/plain": [
       "(x1 | x4) & (x10 | x8) & (x6 | x7) & (x1 | ~x6) & (x1 | ~x7) & (x10 | ~x6) & (x4 | ~x1) & (x6 | ~x3) & (x10 | x4 | x8) & (x4 | x7 | x8) & (~x4 | ~x5) & (x1 | x5 | ~x8) & (x10 | x2 | ~x1) & (x10 | x4 | ~x10) & (x10 | x7 | ~x9) & (x2 | x3 | ~x3) & (x2 | x6 | ~x9) & (x2 | x8 | ~x8) & (x3 | x8 | ~x8) & (x4 | x5 | ~x2) & (x5 | x6 | ~x6) & (x6 | x7 | ~x10) & (x6 | x7 | ~x7) & (x6 | x8 | ~x9) & (x6 | x9 | ~x7) & (x7 | x8 | ~x9) & (x10 | x2 | x7 | x9) & (x10 | ~x10 | ~x2) & (x10 | ~x10 | ~x8) & (x2 | ~x1 | ~x2) & (x3 | ~x10 | ~x7) & (x5 | ~x3 | ~x8) & (x5 | ~x5 | ~x6) & (x7 | ~x1 | ~x10) & (x7 | ~x2 | ~x8) & (x8 | ~x1 | ~x3) & (~x1 | ~x10 | ~x5) & (~x10 | ~x6 | ~x8) & (~x2 | ~x4 | ~x7) & (~x5 | ~x7 | ~x8)"
      ]
     },
     "execution_count": 95,
     "metadata": {},
     "output_type": "execute_result"
    }
   ],
   "source": [
    "first_var(c1)"
   ]
  },
  {
   "cell_type": "code",
   "execution_count": 96,
   "metadata": {},
   "outputs": [
    {
     "data": {
      "text/plain": [
       "(x1 | x4) & (x10 | x8) & (x6 | x7) & (x1 | ~x6) & (x1 | ~x7) & (x10 | ~x6) & (x4 | ~x1) & (x6 | ~x3) & (x10 | x4 | x8) & (x4 | x7 | x8) & (~x4 | ~x5) & (x1 | x5 | ~x8) & (x10 | x2 | ~x1) & (x10 | x4 | ~x10) & (x10 | x7 | ~x9) & (x2 | x3 | ~x3) & (x2 | x6 | ~x9) & (x2 | x8 | ~x8) & (x3 | x8 | ~x8) & (x4 | x5 | ~x2) & (x5 | x6 | ~x6) & (x6 | x7 | ~x10) & (x6 | x7 | ~x7) & (x6 | x8 | ~x9) & (x6 | x9 | ~x7) & (x7 | x8 | ~x9) & (x10 | x2 | x7 | x9) & (x10 | ~x10 | ~x2) & (x10 | ~x10 | ~x8) & (x2 | ~x1 | ~x2) & (x3 | ~x10 | ~x7) & (x5 | ~x3 | ~x8) & (x5 | ~x5 | ~x6) & (x7 | ~x1 | ~x10) & (x7 | ~x2 | ~x8) & (x8 | ~x1 | ~x3) & (~x1 | ~x10 | ~x5) & (~x10 | ~x6 | ~x8) & (~x2 | ~x4 | ~x7) & (~x5 | ~x7 | ~x8)"
      ]
     },
     "execution_count": 96,
     "metadata": {},
     "output_type": "execute_result"
    }
   ],
   "source": [
    "c1"
   ]
  },
  {
   "cell_type": "code",
   "execution_count": null,
   "metadata": {},
   "outputs": [],
   "source": [
    "def naif(cnf, assigment):\n",
    "    x = first_var(cnf)\n",
    "    save_assignement = assignement.copy()\n",
    "    assignement[x] = True\n",
    "    tmp = naif(cnf.subs(x, True), assignement)\n",
    "    \n",
    "    "
   ]
  },
  {
   "cell_type": "code",
   "execution_count": 63,
   "metadata": {},
   "outputs": [
    {
     "ename": "ValueError",
     "evalue": "subs accepts either 1 or 2 arguments",
     "output_type": "error",
     "traceback": [
      "\u001b[1;31m---------------------------------------------------------------------------\u001b[0m",
      "\u001b[1;31mValueError\u001b[0m                                Traceback (most recent call last)",
      "\u001b[1;32m<ipython-input-63-a4223cb927e5>\u001b[0m in \u001b[0;36m<module>\u001b[1;34m()\u001b[0m\n\u001b[1;32m----> 1\u001b[1;33m \u001b[0mc1\u001b[0m\u001b[1;33m.\u001b[0m\u001b[0msubs\u001b[0m\u001b[1;33m(\u001b[0m\u001b[0mx1\u001b[0m\u001b[1;33m,\u001b[0m \u001b[0mtrue\u001b[0m\u001b[1;33m,\u001b[0m \u001b[0mx2\u001b[0m\u001b[1;33m,\u001b[0m \u001b[0mfalse\u001b[0m\u001b[1;33m)\u001b[0m\u001b[1;33m\u001b[0m\u001b[0m\n\u001b[0m",
      "\u001b[1;32m~\\AppData\\Local\\Continuum\\anaconda3\\lib\\site-packages\\sympy\\core\\basic.py\u001b[0m in \u001b[0;36msubs\u001b[1;34m(self, *args, **kwargs)\u001b[0m\n\u001b[0;32m    855\u001b[0m             \u001b[0msequence\u001b[0m \u001b[1;33m=\u001b[0m \u001b[1;33m[\u001b[0m\u001b[0margs\u001b[0m\u001b[1;33m]\u001b[0m\u001b[1;33m\u001b[0m\u001b[0m\n\u001b[0;32m    856\u001b[0m         \u001b[1;32melse\u001b[0m\u001b[1;33m:\u001b[0m\u001b[1;33m\u001b[0m\u001b[0m\n\u001b[1;32m--> 857\u001b[1;33m             \u001b[1;32mraise\u001b[0m \u001b[0mValueError\u001b[0m\u001b[1;33m(\u001b[0m\u001b[1;34m\"subs accepts either 1 or 2 arguments\"\u001b[0m\u001b[1;33m)\u001b[0m\u001b[1;33m\u001b[0m\u001b[0m\n\u001b[0m\u001b[0;32m    858\u001b[0m \u001b[1;33m\u001b[0m\u001b[0m\n\u001b[0;32m    859\u001b[0m         \u001b[0msequence\u001b[0m \u001b[1;33m=\u001b[0m \u001b[0mlist\u001b[0m\u001b[1;33m(\u001b[0m\u001b[0msequence\u001b[0m\u001b[1;33m)\u001b[0m\u001b[1;33m\u001b[0m\u001b[0m\n",
      "\u001b[1;31mValueError\u001b[0m: subs accepts either 1 or 2 arguments"
     ]
    }
   ],
   "source": [
    "c1.subs(x1, true, x2, false)"
   ]
  },
  {
   "cell_type": "code",
   "execution_count": 66,
   "metadata": {},
   "outputs": [
    {
     "name": "stdout",
     "output_type": "stream",
     "text": [
      "a 1\n",
      "b 2\n"
     ]
    }
   ],
   "source": [
    "d= {\"a\":1, \"b\": 2}\n",
    "for i in {\"a\":1, \"b\": 2}:\n",
    "    print(i, d[i])"
   ]
  },
  {
   "cell_type": "code",
   "execution_count": null,
   "metadata": {},
   "outputs": [],
   "source": []
  }
 ],
 "metadata": {
  "kernelspec": {
   "display_name": "Python 3",
   "language": "python",
   "name": "python3"
  },
  "language_info": {
   "codemirror_mode": {
    "name": "ipython",
    "version": 3
   },
   "file_extension": ".py",
   "mimetype": "text/x-python",
   "name": "python",
   "nbconvert_exporter": "python",
   "pygments_lexer": "ipython3",
   "version": "3.6.5"
  }
 },
 "nbformat": 4,
 "nbformat_minor": 2
}

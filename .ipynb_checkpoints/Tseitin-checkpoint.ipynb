{
 "cells": [
  {
   "cell_type": "code",
   "execution_count": 1,
   "metadata": {},
   "outputs": [],
   "source": [
    "import sympy as sp\n",
    "from sympy import *\n",
    "from sympy.abc import *"
   ]
  },
  {
   "cell_type": "markdown",
   "metadata": {},
   "source": [
    "# Summary \n",
    "\n",
    "Any propositional formula can be rewritten with De Morgan laws as an equivalent formula in Clausal Normal Form. However this can lead to exponential growhth in size and therefore prevent any real life application.\n",
    "\n",
    "Tseitin transformation https://en.wikipedia.org/wiki/Tseytin_transformation is a classical work around. It transform a propositional formula A into another formula T(A) which can be in turn be rewritten as a CNF with a linear increase in size.\n",
    "\n",
    "We illustrated Tseitin transformation using sympy \n"
   ]
  },
  {
   "cell_type": "code",
   "execution_count": 2,
   "metadata": {},
   "outputs": [],
   "source": [
    "x0, x1, x2, x3, x4, x5, x6, x7, x8, x9, x10, x11 = symbols('x:12')"
   ]
  },
  {
   "cell_type": "markdown",
   "metadata": {},
   "source": [
    "Straight forward rewritten of (x0 & x1) | (x2 & x3) | (x4 & x5) | (x6 & x7)| (x8 & x9)| (x10 & x11) into a CNF has 64 clauses of 6 literals each "
   ]
  },
  {
   "cell_type": "code",
   "execution_count": 3,
   "metadata": {},
   "outputs": [
    {
     "data": {
      "text/plain": [
       "(x0 | x10 | x2 | x4 | x6 | x8) & (x0 | x10 | x2 | x4 | x6 | x9) & (x0 | x10 | x2 | x4 | x7 | x8) & (x0 | x10 | x2 | x4 | x7 | x9) & (x0 | x10 | x2 | x5 | x6 | x8) & (x0 | x10 | x2 | x5 | x6 | x9) & (x0 | x10 | x2 | x5 | x7 | x8) & (x0 | x10 | x2 | x5 | x7 | x9) & (x0 | x10 | x3 | x4 | x6 | x8) & (x0 | x10 | x3 | x4 | x6 | x9) & (x0 | x10 | x3 | x4 | x7 | x8) & (x0 | x10 | x3 | x4 | x7 | x9) & (x0 | x10 | x3 | x5 | x6 | x8) & (x0 | x10 | x3 | x5 | x6 | x9) & (x0 | x10 | x3 | x5 | x7 | x8) & (x0 | x10 | x3 | x5 | x7 | x9) & (x0 | x11 | x2 | x4 | x6 | x8) & (x0 | x11 | x2 | x4 | x6 | x9) & (x0 | x11 | x2 | x4 | x7 | x8) & (x0 | x11 | x2 | x4 | x7 | x9) & (x0 | x11 | x2 | x5 | x6 | x8) & (x0 | x11 | x2 | x5 | x6 | x9) & (x0 | x11 | x2 | x5 | x7 | x8) & (x0 | x11 | x2 | x5 | x7 | x9) & (x0 | x11 | x3 | x4 | x6 | x8) & (x0 | x11 | x3 | x4 | x6 | x9) & (x0 | x11 | x3 | x4 | x7 | x8) & (x0 | x11 | x3 | x4 | x7 | x9) & (x0 | x11 | x3 | x5 | x6 | x8) & (x0 | x11 | x3 | x5 | x6 | x9) & (x0 | x11 | x3 | x5 | x7 | x8) & (x0 | x11 | x3 | x5 | x7 | x9) & (x1 | x10 | x2 | x4 | x6 | x8) & (x1 | x10 | x2 | x4 | x6 | x9) & (x1 | x10 | x2 | x4 | x7 | x8) & (x1 | x10 | x2 | x4 | x7 | x9) & (x1 | x10 | x2 | x5 | x6 | x8) & (x1 | x10 | x2 | x5 | x6 | x9) & (x1 | x10 | x2 | x5 | x7 | x8) & (x1 | x10 | x2 | x5 | x7 | x9) & (x1 | x10 | x3 | x4 | x6 | x8) & (x1 | x10 | x3 | x4 | x6 | x9) & (x1 | x10 | x3 | x4 | x7 | x8) & (x1 | x10 | x3 | x4 | x7 | x9) & (x1 | x10 | x3 | x5 | x6 | x8) & (x1 | x10 | x3 | x5 | x6 | x9) & (x1 | x10 | x3 | x5 | x7 | x8) & (x1 | x10 | x3 | x5 | x7 | x9) & (x1 | x11 | x2 | x4 | x6 | x8) & (x1 | x11 | x2 | x4 | x6 | x9) & (x1 | x11 | x2 | x4 | x7 | x8) & (x1 | x11 | x2 | x4 | x7 | x9) & (x1 | x11 | x2 | x5 | x6 | x8) & (x1 | x11 | x2 | x5 | x6 | x9) & (x1 | x11 | x2 | x5 | x7 | x8) & (x1 | x11 | x2 | x5 | x7 | x9) & (x1 | x11 | x3 | x4 | x6 | x8) & (x1 | x11 | x3 | x4 | x6 | x9) & (x1 | x11 | x3 | x4 | x7 | x8) & (x1 | x11 | x3 | x4 | x7 | x9) & (x1 | x11 | x3 | x5 | x6 | x8) & (x1 | x11 | x3 | x5 | x6 | x9) & (x1 | x11 | x3 | x5 | x7 | x8) & (x1 | x11 | x3 | x5 | x7 | x9)"
      ]
     },
     "execution_count": 3,
     "metadata": {},
     "output_type": "execute_result"
    }
   ],
   "source": [
    "sp.to_cnf((x0 & x1) | (x2 & x3) | (x4 & x5) | (x6 & x7)| (x8 & x9)| (x10 & x11))"
   ]
  },
  {
   "cell_type": "markdown",
   "metadata": {},
   "source": [
    "Let's have first a look at Tseitin transformation for formula $$((p \\lor q) \\land r) \\implies \\neg s$$\n",
    "we need to \n",
    "1. compute all subformulas, atoms excepted\n",
    "2. sort them by depth \n",
    "3. Conjunct all substitutions and the substitution\n",
    "4. then transform all substitution in CNF "
   ]
  },
  {
   "cell_type": "markdown",
   "metadata": {},
   "source": [
    "Step 1: computing $$((p \\lor q) \\land r) \\implies \\neg s$$ subformulas"
   ]
  },
  {
   "cell_type": "code",
   "execution_count": 20,
   "metadata": {},
   "outputs": [],
   "source": [
    "def subformulas(expr):\n",
    "# subformula of expr without atoms\n",
    "# considering operator as binary\n",
    "    \n",
    "    if expr.func == sp.Symbol:\n",
    "        return []\n",
    "    elif len(expr.args)==1:\n",
    "        return [expr] + subformulas(expr.args[0])\n",
    "    elif len(expr.args)==2:\n",
    "        return [expr] + subformulas(expr.args[0]) + subformulas(expr.args[1]) \n",
    "    elif len(expr.args)>2:\n",
    "        return [expr] + subformulas(expr.args[0]) + subformulas(eval(str(expr.func)+str(expr.args[1:])))  \n",
    "    else:\n",
    "        return \"error\""
   ]
  },
  {
   "cell_type": "code",
   "execution_count": 5,
   "metadata": {},
   "outputs": [
    {
     "data": {
      "text/plain": [
       "[Implies(r & (p | q), ~s), r & (p | q), p | q, ~s]"
      ]
     },
     "execution_count": 5,
     "metadata": {},
     "output_type": "execute_result"
    }
   ],
   "source": [
    "subformulas(((p |q) & r) >> (~s))"
   ]
  },
  {
   "cell_type": "markdown",
   "metadata": {},
   "source": [
    "**Note**: we considers the operators as binary while sympy consider them as n-ary. So we choose for subformulas (ignoring atoms) of (A & B & C), the subformulas of A & (B & C): A & B & C,  B & C"
   ]
  },
  {
   "cell_type": "code",
   "execution_count": 6,
   "metadata": {},
   "outputs": [
    {
     "data": {
      "text/plain": [
       "[A & B & C, B & C]"
      ]
     },
     "execution_count": 6,
     "metadata": {},
     "output_type": "execute_result"
    }
   ],
   "source": [
    "subformulas(A & B & C)"
   ]
  },
  {
   "cell_type": "markdown",
   "metadata": {},
   "source": [
    "We define the depth of a formula in the following way\n",
    "- depth(A)=0 if A is an atom\n",
    "- depth(~F) = depth(F) + 1\n",
    "- depth(F1 op F2) = max(depth(F1), depth(F2)) + 1, for op a boolean binary operator (here we consider conjunction, disjunction and implication)"
   ]
  },
  {
   "cell_type": "code",
   "execution_count": 7,
   "metadata": {},
   "outputs": [],
   "source": [
    "def depth(expr):\n",
    "# still considering operator as binary\n",
    "    if expr.func == Not:\n",
    "        return 1 + depth(expr.args[0])\n",
    "    elif (len(expr.args)==2):\n",
    "        return 1 + max([depth(x) for x in expr.args])\n",
    "    elif ( len(expr.args)>2):\n",
    "        #return 1 + max(depth(expr.args[0]), depth(eval(str(expr.func)+str(expr.args[1:]))))\n",
    "        return len(expr.args)-1 + max([depth(x) for x in expr.args])\n",
    "    elif expr.func == Symbol:\n",
    "        return 0\n",
    "    else: \n",
    "        return\"error\""
   ]
  },
  {
   "cell_type": "code",
   "execution_count": 8,
   "metadata": {},
   "outputs": [
    {
     "data": {
      "text/plain": [
       "3"
      ]
     },
     "execution_count": 8,
     "metadata": {},
     "output_type": "execute_result"
    }
   ],
   "source": [
    "depth(((p |q) & r) >> (~s))"
   ]
  },
  {
   "cell_type": "markdown",
   "metadata": {},
   "source": [
    "Again we consider the boolen operator to be binary, so depth(A & B & C) = depth(A & (B & C))=2"
   ]
  },
  {
   "cell_type": "code",
   "execution_count": 9,
   "metadata": {},
   "outputs": [
    {
     "data": {
      "text/plain": [
       "2"
      ]
     },
     "execution_count": 9,
     "metadata": {},
     "output_type": "execute_result"
    }
   ],
   "source": [
    "depth(A& B & C)"
   ]
  },
  {
   "cell_type": "markdown",
   "metadata": {},
   "source": [
    "Sorting subformulas (not taking into account atoms) of\n",
    "$$((p \\lor q) \\land r) \\implies \\neg s$$\n",
    "per depth will give us \n",
    "$$\\begin{align}\n",
    "p \\lor q\\\\\n",
    "\\neg s \\\\\n",
    "r \\land (p \\lor q)\\\\\n",
    "r \\land (p \\lor q) \\implies \\neg s\\\\\n",
    "\\end{align}$$\n",
    "\n",
    "\n"
   ]
  },
  {
   "cell_type": "code",
   "execution_count": 10,
   "metadata": {},
   "outputs": [
    {
     "data": {
      "text/plain": [
       "[p | q, ~s, r & (p | q), Implies(r & (p | q), ~s)]"
      ]
     },
     "execution_count": 10,
     "metadata": {},
     "output_type": "execute_result"
    }
   ],
   "source": [
    "F = ((p |q) & r) >> (~s)\n",
    "sorted(subformulas(F), key=depth)"
   ]
  },
  {
   "cell_type": "markdown",
   "metadata": {},
   "source": [
    "We can now  write the following formulas\n",
    "<br>\n",
    "$\\begin{align}\n",
    "x_0  \\Leftrightarrow p \\lor q \\\\\n",
    "x_1  \\Leftrightarrow \\neg s \\\\\n",
    "x_2  \\Leftrightarrow r \\land x_0\n",
    "x_3  \\Leftrightarrow (x_2 \\implies x_1)\n",
    "\\end{align}$\n",
    "<br>\n",
    "\n",
    "and conjunct them to get <br>\n",
    "$T(((p \\lor q) \\land r) \\implies \\neg s) := x_3 \\land (x_3  \\Leftrightarrow (x2 \\implies x1)) \\land (x_2  \\Leftrightarrow r \\land x0) \\land (x_1  \\Leftrightarrow \\neg s) \\land (x_0  \\Leftrightarrow p \\lor q)$"
   ]
  },
  {
   "cell_type": "markdown",
   "metadata": {},
   "source": [
    "First We need  a way to get new symbol. This is done using closure:"
   ]
  },
  {
   "cell_type": "code",
   "execution_count": 11,
   "metadata": {},
   "outputs": [],
   "source": [
    "def symbol_init(x, count=0):\n",
    "    def new_symbol ():\n",
    "        nonlocal count\n",
    "        count += 1\n",
    "        return var(str(x) + str(count)) #var add the new symbol in the name space\n",
    "    return new_symbol"
   ]
  },
  {
   "cell_type": "code",
   "execution_count": 12,
   "metadata": {},
   "outputs": [],
   "source": [
    "si = symbol_init('t')"
   ]
  },
  {
   "cell_type": "code",
   "execution_count": 13,
   "metadata": {},
   "outputs": [
    {
     "data": {
      "text/plain": [
       "t1 | t2"
      ]
     },
     "execution_count": 13,
     "metadata": {},
     "output_type": "execute_result"
    }
   ],
   "source": [
    "si() | si()"
   ]
  },
  {
   "cell_type": "markdown",
   "metadata": {},
   "source": [
    "As sympy boolean operator are n aries, sympy subs will not work well for us need. For instance "
   ]
  },
  {
   "cell_type": "code",
   "execution_count": 14,
   "metadata": {},
   "outputs": [
    {
     "data": {
      "text/plain": [
       "x1 & x3 & ~x2"
      ]
     },
     "execution_count": 14,
     "metadata": {},
     "output_type": "execute_result"
    }
   ],
   "source": [
    "(x1 & Not(x2) &x3).subs(Not(x2) & x3, A)"
   ]
  },
  {
   "cell_type": "markdown",
   "metadata": {},
   "source": [
    "So we need to define a custom substiturion handling boolean operator as binary "
   ]
  },
  {
   "cell_type": "code",
   "execution_count": 15,
   "metadata": {},
   "outputs": [],
   "source": [
    "def binSubs(x, y, z):\n",
    "    #replace y by z in x\n",
    "    #print(\"subs\", x, y, z)\n",
    "    if (len(y.args) >0) and (len(x.args)>2) and (y!=x) and (y.func==x.func):\n",
    "     \n",
    "        if all([y in x.args for y in y.args]): \n",
    "            l = list(x.args)\n",
    "            for i in y.args:\n",
    "                l.remove(i)\n",
    "            if (z.func== Symbol):\n",
    "                t=tuple(l + [z])\n",
    "            else:\n",
    "                t=tuple(l+list(z.args))\n",
    "            return eval(str(x.func) + str(t))\n",
    "    \n",
    "    return x.subs(y,z)\n",
    "            "
   ]
  },
  {
   "cell_type": "code",
   "execution_count": 16,
   "metadata": {},
   "outputs": [
    {
     "data": {
      "text/plain": [
       "A & x3"
      ]
     },
     "execution_count": 16,
     "metadata": {},
     "output_type": "execute_result"
    }
   ],
   "source": [
    "binSubs((x1 & ~x2 &x3), x1 & ~x2, A)"
   ]
  },
  {
   "cell_type": "markdown",
   "metadata": {},
   "source": [
    "We can now put together tseitin transformation "
   ]
  },
  {
   "cell_type": "code",
   "execution_count": 21,
   "metadata": {},
   "outputs": [],
   "source": [
    "def tseitin1(expr):\n",
    "    # for binary operation\n",
    "\n",
    "    s=symbol_init(\"p\")\n",
    "    if expr.func == Symbol:\n",
    "        return true\n",
    "    else:\n",
    "        return tseitin_aux(sorted(subformulas(expr), key=depth), s) \n",
    "\n",
    "def tseitin_aux(L, s):\n",
    "    #nonlocal newvar\n",
    "    newvar = s()\n",
    "    if (L==[]):\n",
    "        return true\n",
    "    if depth(L[0]) > 0:\n",
    "        if len(L[1:])>0 :\n",
    "            #newList = [x.subs(L[0], newvar) for x in L[1:]]  \n",
    "            \n",
    "            newList = [binSubs(x, L[0], newvar) for x in L[1:]]  \n",
    "            \n",
    "            return Equivalent(newvar, L[0]) & tseitin_aux(newList, s)\n",
    "        else:      \n",
    "            return Equivalent(newvar, L[0]) & newvar\n",
    "    else:\n",
    "        print(\"error\")   "
   ]
  },
  {
   "cell_type": "code",
   "execution_count": 22,
   "metadata": {},
   "outputs": [
    {
     "data": {
      "text/plain": [
       "p4 & (Equivalent(p2, ~s)) & (Equivalent(p1, p | q)) & (Equivalent(p3, p1 & r)) & (Equivalent(p4, Implies(p3, p2)))"
      ]
     },
     "execution_count": 22,
     "metadata": {},
     "output_type": "execute_result"
    }
   ],
   "source": [
    "F = ((p |q) & r) >> (~s)\n",
    "tseitin1(F)"
   ]
  },
  {
   "cell_type": "markdown",
   "metadata": {},
   "source": [
    "From there, we leverage makes the final transformation to CNF leveraging the following equivalences <br>\n",
    "$\\begin{align}\n",
    "x  \\Leftrightarrow (y \\land z) \\equiv (\\neg y \\lor \\neg z \\lor x) \\land \n",
    "x  \\Leftrightarrow (y \\lor z) \\equiv)\\\\\n",
    "x  \\Leftrightarrow (y \\implies z) \\equiv)\\\\\n",
    "x  \\Leftrightarrow (~y) \\equiv)\\\\\n",
    "\\end{align}$\n",
    "<br>"
   ]
  },
  {
   "cell_type": "code",
   "execution_count": 27,
   "metadata": {},
   "outputs": [
    {
     "name": "stdout",
     "output_type": "stream",
     "text": [
      "(y | ~x) & (z | ~x) & (x | ~y | ~z)\n",
      "(x | ~y) & (x | ~z) & (y | z | ~x)\n",
      "(x | y) & (x | ~z) & (z | ~x | ~y)\n",
      "(x | y) & (~x | ~y)\n"
     ]
    }
   ],
   "source": [
    "\n",
    "print(to_cnf(Equivalent(x, y & z)))\n",
    "print(to_cnf(Equivalent(x, y | z)))\n",
    "print(to_cnf(Equivalent(x, y >> z)))\n",
    "print(to_cnf(Equivalent(x, ~y)))"
   ]
  },
  {
   "cell_type": "code",
   "execution_count": 38,
   "metadata": {},
   "outputs": [
    {
     "data": {
      "text/plain": [
       "p3 & (Equivalent(p3, ~p2)) & (Equivalent(p1, A & B)) & (Equivalent(p2, C | p1))"
      ]
     },
     "execution_count": 38,
     "metadata": {},
     "output_type": "execute_result"
    }
   ],
   "source": [
    "tseitin1(Not((A & B ) | C))"
   ]
  },
  {
   "cell_type": "code",
   "execution_count": null,
   "metadata": {},
   "outputs": [],
   "source": []
  },
  {
   "cell_type": "code",
   "execution_count": 25,
   "metadata": {},
   "outputs": [
    {
     "data": {
      "text/plain": [
       "p3 & (Equivalent(p3, ~p2)) & (Equivalent(p1, A & B)) & (Equivalent(p2, C | p1))"
      ]
     },
     "execution_count": 25,
     "metadata": {},
     "output_type": "execute_result"
    }
   ],
   "source": [
    "tseitin1(Not((A & B ) | C))"
   ]
  },
  {
   "cell_type": "code",
   "execution_count": 26,
   "metadata": {},
   "outputs": [
    {
     "data": {
      "text/plain": [
       "p3 & (p2 | p3) & (A | ~p1) & (B | ~p1) & (p2 | ~C) & (p2 | ~p1) & (~p2 | ~p3) & (C | p1 | ~p2) & (p1 | ~A | ~B)"
      ]
     },
     "execution_count": 26,
     "metadata": {},
     "output_type": "execute_result"
    }
   ],
   "source": [
    "to_cnf(tseitin1(Not((A & B ) | C)))"
   ]
  },
  {
   "cell_type": "code",
   "execution_count": 27,
   "metadata": {},
   "outputs": [
    {
     "data": {
      "text/plain": [
       "p2 & (Equivalent(p1, x2 & x3)) & (Equivalent(p2, p1 & x1))"
      ]
     },
     "execution_count": 27,
     "metadata": {},
     "output_type": "execute_result"
    }
   ],
   "source": [
    "tseitin1((x1 & x2 & x3))"
   ]
  },
  {
   "cell_type": "code",
   "execution_count": 28,
   "metadata": {},
   "outputs": [
    {
     "data": {
      "text/plain": [
       "p5 & (Equivalent(p1, x1 & x2)) & (Equivalent(p2, x3 & x4)) & (Equivalent(p3, x5 & x6)) & (Equivalent(p4, p2 | p3)) & (Equivalent(p5, p1 | p4))"
      ]
     },
     "execution_count": 28,
     "metadata": {},
     "output_type": "execute_result"
    }
   ],
   "source": [
    "tseitin1((x1 & x2) | (x3 & x4) | (x5 & x6))"
   ]
  },
  {
   "cell_type": "code",
   "execution_count": 29,
   "metadata": {},
   "outputs": [
    {
     "data": {
      "text/plain": [
       "p7 & (Equivalent(p1, x1 & x2)) & (Equivalent(p2, x3 & x4)) & (Equivalent(p3, x5 & x6)) & (Equivalent(p4, x7 & x8)) & (Equivalent(p5, p3 | p4)) & (Equivalent(p6, p2 | p5)) & (Equivalent(p7, p1 | p6))"
      ]
     },
     "execution_count": 29,
     "metadata": {},
     "output_type": "execute_result"
    }
   ],
   "source": [
    "tseitin1((x1 & x2) | (x3 & x4) | (x5 & x6)| (x7 & x8))"
   ]
  },
  {
   "cell_type": "code",
   "execution_count": 30,
   "metadata": {},
   "outputs": [
    {
     "data": {
      "text/plain": [
       "p7 & (p5 | ~p3) & (p5 | ~p4) & (p6 | ~p2) & (p6 | ~p5) & (p7 | ~p1) & (p7 | ~p6) & (x1 | ~p1) & (x2 | ~p1) & (x3 | ~p2) & (x4 | ~p2) & (x5 | ~p3) & (x6 | ~p3) & (x7 | ~p4) & (x8 | ~p4) & (p1 | p6 | ~p7) & (p2 | p5 | ~p6) & (p3 | p4 | ~p5) & (p1 | ~x1 | ~x2) & (p2 | ~x3 | ~x4) & (p3 | ~x5 | ~x6) & (p4 | ~x7 | ~x8)"
      ]
     },
     "execution_count": 30,
     "metadata": {},
     "output_type": "execute_result"
    }
   ],
   "source": [
    "to_cnf(tseitin1((x1 & x2) | (x3 & x4) | (x5 & x6)| (x7 & x8)))"
   ]
  },
  {
   "cell_type": "code",
   "execution_count": 31,
   "metadata": {},
   "outputs": [
    {
     "data": {
      "text/plain": [
       "p11 & (Equivalent(p1, x0 & x1)) & (Equivalent(p10, p2 | p9)) & (Equivalent(p11, p1 | p10)) & (Equivalent(p2, x10 & x11)) & (Equivalent(p3, x2 & x3)) & (Equivalent(p4, x4 & x5)) & (Equivalent(p5, x6 & x7)) & (Equivalent(p6, x8 & x9)) & (Equivalent(p7, p5 | p6)) & (Equivalent(p8, p4 | p7)) & (Equivalent(p9, p3 | p8))"
      ]
     },
     "execution_count": 31,
     "metadata": {},
     "output_type": "execute_result"
    }
   ],
   "source": [
    "tseitin1((x0 & x1) | (x2 & x3) | (x4 & x5) | (x6 & x7)| (x8 & x9)| (x10 & x11))"
   ]
  },
  {
   "cell_type": "code",
   "execution_count": 32,
   "metadata": {},
   "outputs": [
    {
     "data": {
      "text/plain": [
       "p11 & (p10 | ~p2) & (p10 | ~p9) & (p11 | ~p1) & (p11 | ~p10) & (p7 | ~p5) & (p7 | ~p6) & (p8 | ~p4) & (p8 | ~p7) & (p9 | ~p3) & (p9 | ~p8) & (x0 | ~p1) & (x1 | ~p1) & (x10 | ~p2) & (x11 | ~p2) & (x2 | ~p3) & (x3 | ~p3) & (x4 | ~p4) & (x5 | ~p4) & (x6 | ~p5) & (x7 | ~p5) & (x8 | ~p6) & (x9 | ~p6) & (p1 | p10 | ~p11) & (p2 | p9 | ~p10) & (p3 | p8 | ~p9) & (p4 | p7 | ~p8) & (p5 | p6 | ~p7) & (p1 | ~x0 | ~x1) & (p2 | ~x10 | ~x11) & (p3 | ~x2 | ~x3) & (p4 | ~x4 | ~x5) & (p5 | ~x6 | ~x7) & (p6 | ~x8 | ~x9)"
      ]
     },
     "execution_count": 32,
     "metadata": {},
     "output_type": "execute_result"
    }
   ],
   "source": [
    "to_cnf(tseitin1((x0 & x1) | (x2 & x3) | (x4 & x5) | (x6 & x7)| (x8 & x9)| (x10 & x11)))"
   ]
  },
  {
   "cell_type": "code",
   "execution_count": null,
   "metadata": {},
   "outputs": [],
   "source": []
  }
 ],
 "metadata": {
  "kernelspec": {
   "display_name": "Python 3",
   "language": "python",
   "name": "python3"
  },
  "language_info": {
   "codemirror_mode": {
    "name": "ipython",
    "version": 3
   },
   "file_extension": ".py",
   "mimetype": "text/x-python",
   "name": "python",
   "nbconvert_exporter": "python",
   "pygments_lexer": "ipython3",
   "version": "3.6.6"
  }
 },
 "nbformat": 4,
 "nbformat_minor": 2
}
